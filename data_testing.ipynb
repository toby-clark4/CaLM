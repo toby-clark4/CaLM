{
 "cells": [
  {
   "cell_type": "code",
   "execution_count": 1,
   "id": "d00b596d-38ff-43bb-9d90-4aa8af86cab3",
   "metadata": {},
   "outputs": [],
   "source": [
    "from data_module import CodonDataModule\n",
    "from calm.sequence import CodonSequence\n",
    "from calm.alphabet import Alphabet\n",
    "import argparse"
   ]
  },
  {
   "cell_type": "code",
   "execution_count": 35,
   "id": "527d5509-391d-45ef-a8c8-532c6e561b65",
   "metadata": {},
   "outputs": [],
   "source": [
    "parser = argparse.ArgumentParser()\n",
    "args = argparse.Namespace(**{'batch_size':32, 'max_positions':1024})\n",
    "\n",
    "alphabet = Alphabet.from_architecture('CodonModel')\n",
    "datamodule = CodonDataModule(args, alphabet,\n",
    "                            'data/meltome/meltome_data.csv', args.batch_size,\n",
    "                            fine_tune=True, target_column='melting_temperature')"
   ]
  },
  {
   "cell_type": "code",
   "execution_count": 36,
   "id": "ee2cc5e8-76fd-49bf-b4a7-952bb115285f",
   "metadata": {},
   "outputs": [
    {
     "data": {
      "text/plain": [
       "<data_module.CodonDataModule at 0x7fd300e778e0>"
      ]
     },
     "execution_count": 36,
     "metadata": {},
     "output_type": "execute_result"
    }
   ],
   "source": [
    "datamodule"
   ]
  },
  {
   "cell_type": "code",
   "execution_count": 37,
   "id": "29cbea01-2ab3-4623-b604-5699bb9cd432",
   "metadata": {},
   "outputs": [],
   "source": [
    "datamodule.setup()"
   ]
  },
  {
   "cell_type": "code",
   "execution_count": 38,
   "id": "b8cf21f4-29ec-4fb4-92ef-ae69e582eb87",
   "metadata": {},
   "outputs": [
    {
     "data": {
      "text/plain": [
       "[(<calm.sequence.CodonSequence at 0x7fd3ac3e7d00>, 58.9084787992705),\n",
       " (<calm.sequence.CodonSequence at 0x7fd3ac4aa5c0>, 48.2402877443515),\n",
       " (<calm.sequence.CodonSequence at 0x7fd3ac2f6620>, 48.108157673752096),\n",
       " (<calm.sequence.CodonSequence at 0x7fd3ac3174c0>, 53.3678254394789),\n",
       " (<calm.sequence.CodonSequence at 0x7fd3ac379fc0>, 41.75821094851)]"
      ]
     },
     "execution_count": 38,
     "metadata": {},
     "output_type": "execute_result"
    }
   ],
   "source": [
    "data = datamodule.train_data[:5]\n",
    "data"
   ]
  },
  {
   "cell_type": "code",
   "execution_count": 39,
   "id": "168fac15-53ad-40eb-bcb2-15f8deb11641",
   "metadata": {},
   "outputs": [
    {
     "name": "stdout",
     "output_type": "stream",
     "text": [
      "Batch Sequence Shapes: [torch.Size([1024]), torch.Size([1024]), torch.Size([1024]), torch.Size([1024]), torch.Size([1024]), torch.Size([1024]), torch.Size([1024]), torch.Size([1024]), torch.Size([1024]), torch.Size([1024]), torch.Size([1024]), torch.Size([1024]), torch.Size([1024]), torch.Size([1024]), torch.Size([1024]), torch.Size([1024]), torch.Size([1024]), torch.Size([1024]), torch.Size([1024]), torch.Size([1024]), torch.Size([1024]), torch.Size([1024]), torch.Size([1024]), torch.Size([1024]), torch.Size([1024]), torch.Size([1024]), torch.Size([1024]), torch.Size([1024]), torch.Size([1024]), torch.Size([1024]), torch.Size([1024]), torch.Size([1024])]\n",
      "Batch Labels: tensor([58.9085, 48.2403, 48.1082, 53.3678, 41.7582, 56.3471, 51.2968, 44.0078,\n",
      "        45.6959, 50.3465, 48.8603, 54.5324, 89.0259, 53.2879, 44.9986, 52.2246,\n",
      "        58.4144, 61.3045, 38.8794, 52.0154, 57.6974, 49.2634, 48.1655, 58.2843,\n",
      "        38.1419, 47.2221, 55.2085, 48.0492, 51.3307, 55.1612, 52.6146, 48.3048],\n",
      "       dtype=torch.float64)\n"
     ]
    }
   ],
   "source": [
    "batch = next(iter(datamodule.train_dataloader()))\n",
    "\n",
    "print(\"Batch Sequence Shapes:\", [seq.shape for seq in batch[\"input\"]])\n",
    "print(\"Batch Labels:\", batch[\"labels\"])"
   ]
  },
  {
   "cell_type": "code",
   "execution_count": null,
   "id": "d3085c6a-0e5f-469d-99e0-661b7da0f59c",
   "metadata": {},
   "outputs": [],
   "source": [
    "batch_sequence_shapes"
   ]
  },
  {
   "cell_type": "code",
   "execution_count": 7,
   "id": "2155cd3d-030f-430b-af67-ac80e72e49b4",
   "metadata": {},
   "outputs": [
    {
     "name": "stdout",
     "output_type": "stream",
     "text": [
      "Train size: 11817, Val size: 2955\n"
     ]
    }
   ],
   "source": [
    "print(f\"Train size: {len(datamodule.train_data)}, Val size: {len(datamodule.val_data)}\")"
   ]
  },
  {
   "cell_type": "code",
   "execution_count": 6,
   "id": "1ae5cbf0-ab6e-418e-aa75-830c79817fe3",
   "metadata": {},
   "outputs": [],
   "source": [
    "sequences, labels = zip(*data)  "
   ]
  },
  {
   "cell_type": "code",
   "execution_count": 7,
   "id": "de22b83b-4397-4b5f-ab53-475bdeda93df",
   "metadata": {},
   "outputs": [
    {
     "data": {
      "text/plain": [
       "(58.9084787992705,\n",
       " 48.2402877443515,\n",
       " 48.108157673752096,\n",
       " 53.3678254394789,\n",
       " 41.75821094851)"
      ]
     },
     "execution_count": 7,
     "metadata": {},
     "output_type": "execute_result"
    }
   ],
   "source": [
    "labels"
   ]
  },
  {
   "cell_type": "code",
   "execution_count": 16,
   "id": "22bd2388-9b04-42ae-a9c2-6ae33ae37f74",
   "metadata": {},
   "outputs": [],
   "source": [
    "from collections import namedtuple\n",
    "\n",
    "from calm.alphabet import Alphabet\n",
    "from calm.sequence import CodonSequence\n",
    "from calm.ft_pipeline import (\n",
    "    FTPipeline,\n",
    "    PipelineInput,\n",
    "    FTDataCollator,\n",
    "    FTDataTrimmer,\n",
    "    FTDataPadder,\n",
    "    FTDataPreprocessor,\n",
    ")\n",
    "\n",
    "\n",
    "def fake_args():\n",
    "    Args = namedtuple('args', [\n",
    "        'mask_proportion',\n",
    "        'max_positions',\n",
    "        'mask_percent',\n",
    "        'leave_percent'\n",
    "    ])\n",
    "    return Args(mask_proportion=.25, max_positions=10,\n",
    "        mask_percent=.8, leave_percent=.1)\n",
    "\n",
    "def test_DataCollator_codon():\n",
    "    args = fake_args()\n",
    "    alphabet = Alphabet.from_architecture('CodonModel')\n",
    "    data_collator = FTDataCollator(args, alphabet)\n",
    "\n",
    "    seq1 = CodonSequence('AUG GGA CGC UUU UAC CAA AUG GGA CGC UUU UAC CAA UAA ' * 10)\n",
    "    seq2 = CodonSequence('AUG GGA CGC UAA')\n",
    "    input_ = PipelineInput(sequence=[seq1, seq2], labels=[10.6, 10.8])\n",
    "    output = data_collator(input_)\n",
    "    print(output)\n",
    "\n",
    "def test_DataTrimmer_codon():\n",
    "    args = fake_args()\n",
    "    alphabet = Alphabet.from_architecture('CodonModel')\n",
    "    data_trimmer = FTPipeline([\n",
    "        FTDataCollator(args, alphabet),\n",
    "        FTDataTrimmer(args, alphabet)\n",
    "    ])\n",
    "\n",
    "    seq1 = CodonSequence('AUG GGA CGC UUU UAC CAA AUG GGA CGC UUU UAC CAA UAA ' * 10)\n",
    "    seq2 = CodonSequence('AUG GGA CGC UAA')\n",
    "    output = data_trimmer([(seq1, 10.6), (seq2, 10.8)])\n",
    "    print(output)\n",
    "\n",
    "def test_DataPadder_codon():\n",
    "    args = fake_args()\n",
    "    alphabet = Alphabet.from_architecture('CodonModel')\n",
    "    data_padder = FTPipeline([\n",
    "        FTDataCollator(args, alphabet),\n",
    "        FTDataTrimmer(args, alphabet),\n",
    "        FTDataPadder(args, alphabet),\n",
    "    ])\n",
    "\n",
    "    seq1 = CodonSequence('AUG GGA CGC UUU UAC CAA AUG GGA CGC UUU UAC CAA UAA ' * 10)\n",
    "    seq2 = CodonSequence('AUG GGA CGC UAA')\n",
    "    output = data_padder([(seq1, 10.6), (seq2, 10.8)])\n",
    "    print(output)\n",
    "\n",
    "def test_DataPreprocessor_codon():\n",
    "    args = fake_args()\n",
    "    alphabet = Alphabet.from_architecture('CodonModel')\n",
    "    data_preprocessor = FTPipeline([\n",
    "        FTDataCollator(args, alphabet),\n",
    "        FTDataTrimmer(args, alphabet),\n",
    "        FTDataPadder(args, alphabet),\n",
    "        FTDataPreprocessor(args, alphabet)\n",
    "    ])\n",
    "\n",
    "    seq1 = CodonSequence('AUG GGA CGC UUU UAC CAA AUG GGA CGC UUU UAC CAA UAA ' * 10)\n",
    "    seq2 = CodonSequence('AUG GGA CGC UAA')\n",
    "    output = data_preprocessor([(seq1, 10.6), (seq2, 10.8)])\n",
    "    print(output)\n",
    "\n"
   ]
  },
  {
   "cell_type": "code",
   "execution_count": 17,
   "id": "3a8bc3dc-5d4d-474d-ad63-25da2396b871",
   "metadata": {},
   "outputs": [
    {
     "name": "stdout",
     "output_type": "stream",
     "text": [
      "PipelineData(sequence=['<cls> AUG GGA CGC UUU UAC CAA AUG GGA CGC UUU UAC CAA UAA AUG GGA CGC UUU UAC CAA AUG GGA CGC UUU UAC CAA UAA AUG GGA CGC UUU UAC CAA AUG GGA CGC UUU UAC CAA UAA AUG GGA CGC UUU UAC CAA AUG GGA CGC UUU UAC CAA UAA AUG GGA CGC UUU UAC CAA AUG GGA CGC UUU UAC CAA UAA AUG GGA CGC UUU UAC CAA AUG GGA CGC UUU UAC CAA UAA AUG GGA CGC UUU UAC CAA AUG GGA CGC UUU UAC CAA UAA AUG GGA CGC UUU UAC CAA AUG GGA CGC UUU UAC CAA UAA AUG GGA CGC UUU UAC CAA AUG GGA CGC UUU UAC CAA UAA AUG GGA CGC UUU UAC CAA AUG GGA CGC UUU UAC CAA UAA <eos>', '<cls> AUG GGA CGC UAA <eos>'], labels=[10.6, 10.8])\n",
      "{'sequence': ['<cls> AUG GGA CGC UUU UAC CAA AUG GGA CGC', '<cls> AUG GGA CGC UAA <eos>'], 'labels': [10.6, 10.8]}\n",
      "{'sequence': ['<cls> AUG GGA CGC UUU UAC CAA AUG GGA CGC', '<cls> AUG GGA CGC UAA <eos> <pad> <pad> <pad> <pad>'], 'labels': [10.6, 10.8]}\n",
      "{'input': tensor([[ 0, 11, 64, 50, 25, 22, 36, 11, 64, 50],\n",
      "        [ 0, 11, 64, 50, 20,  2,  1,  1,  1,  1]], dtype=torch.int32), 'labels': tensor([10.6000, 10.8000])}\n"
     ]
    }
   ],
   "source": [
    "test_DataCollator_codon()\n",
    "test_DataTrimmer_codon()\n",
    "test_DataPadder_codon()\n",
    "test_DataPreprocessor_codon()"
   ]
  },
  {
   "cell_type": "code",
   "execution_count": null,
   "id": "ef74ad69-7544-4071-888d-fd549801a184",
   "metadata": {},
   "outputs": [],
   "source": []
  }
 ],
 "metadata": {
  "kernelspec": {
   "display_name": "CaLM",
   "language": "python",
   "name": "calm"
  },
  "language_info": {
   "codemirror_mode": {
    "name": "ipython",
    "version": 3
   },
   "file_extension": ".py",
   "mimetype": "text/x-python",
   "name": "python",
   "nbconvert_exporter": "python",
   "pygments_lexer": "ipython3",
   "version": "3.10.15"
  }
 },
 "nbformat": 4,
 "nbformat_minor": 5
}
