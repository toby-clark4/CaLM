{
 "cells": [
  {
   "cell_type": "code",
   "execution_count": 6,
   "id": "9a0580ac-750b-4a7a-81b6-55426b23d182",
   "metadata": {},
   "outputs": [],
   "source": [
    "import pandas as pd\n",
    "import numpy as np\n",
    "import argparse\n",
    "import pickle\n",
    "import torch\n",
    "\n",
    "from scipy.stats import pearsonr, spearmanr\n",
    "from sklearn.model_selection import PredefinedSplit\n",
    "\n",
    "from data_module import CodonDataModule\n",
    "from fine_tuning import PLProteinBertRegressor\n",
    "from calm.model import ProteinBertRegressor\n",
    "from calm.alphabet import Alphabet\n",
    "\n"
   ]
  },
  {
   "cell_type": "code",
   "execution_count": 8,
   "id": "7e7953a2-fb12-432b-aacc-1b07274ad618",
   "metadata": {},
   "outputs": [],
   "source": [
    "data = pd.read_csv('./data/transcript_stability/mrna_half-life.csv')"
   ]
  },
  {
   "cell_type": "code",
   "execution_count": 9,
   "id": "2aca1670-39d3-4513-8568-9f750c5c8182",
   "metadata": {},
   "outputs": [],
   "source": [
    "args = argparse.Namespace(\n",
    "    max_positions=1024,\n",
    "    warmup_steps=200,\n",
    "    weight_decay=0.1,\n",
    "    lr_scheduler='warmup_cosine',\n",
    "    learning_rate=1e-4,\n",
    "    batch_size=4,\n",
    "    accumulate_gradients=32,\n",
    "    num_steps=15000,\n",
    "    num_layers = 12,\n",
    "    embed_dim = 768,\n",
    "    attention_dropout = 0.,\n",
    "    logit_bias = False,\n",
    "    rope_embedding = True,\n",
    "    ffn_embed_dim = 768*4,\n",
    "    attention_heads = 12\n",
    ")\n",
    "\n",
    "# Initialize model\n",
    "alphabet = Alphabet.from_architecture('CodonModel')\n",
    "\n",
    "datamodule = CodonDataModule(args, alphabet,\n",
    "                             './data/transcript_stability/mrna_half-life.csv', \n",
    "                             args.batch_size,\n",
    "                             fine_tune=True, \n",
    "                             target_column='y',\n",
    "                             sequence_column='CDS')\n",
    "\n",
    "base_model = ProteinBertRegressor(args, alphabet)"
   ]
  },
  {
   "cell_type": "code",
   "execution_count": 13,
   "id": "be8c4d8d-faa5-491f-95df-68ace20933e6",
   "metadata": {},
   "outputs": [
    {
     "name": "stderr",
     "output_type": "stream",
     "text": [
      "/Users/clark04/miniforge-pypy3/envs/CaLM/lib/python3.10/site-packages/torchmetrics/utilities/prints.py:43: UserWarning: Metric `SpearmanCorrcoef` will save all targets and predictions in the buffer. For large datasets, this may lead to large memory footprint.\n",
      "  warnings.warn(*args, **kwargs)  # noqa: B028\n"
     ]
    },
    {
     "name": "stdout",
     "output_type": "stream",
     "text": [
      "Results for fold 0:\n",
      "R: 0.6042\n",
      "R²: 0.3650\n"
     ]
    },
    {
     "name": "stderr",
     "output_type": "stream",
     "text": [
      "/Users/clark04/miniforge-pypy3/envs/CaLM/lib/python3.10/site-packages/torchmetrics/utilities/prints.py:43: UserWarning: Metric `SpearmanCorrcoef` will save all targets and predictions in the buffer. For large datasets, this may lead to large memory footprint.\n",
      "  warnings.warn(*args, **kwargs)  # noqa: B028\n"
     ]
    },
    {
     "name": "stdout",
     "output_type": "stream",
     "text": [
      "Results for fold 1:\n",
      "R: 0.5848\n",
      "R²: 0.3420\n"
     ]
    },
    {
     "name": "stderr",
     "output_type": "stream",
     "text": [
      "/Users/clark04/miniforge-pypy3/envs/CaLM/lib/python3.10/site-packages/torchmetrics/utilities/prints.py:43: UserWarning: Metric `SpearmanCorrcoef` will save all targets and predictions in the buffer. For large datasets, this may lead to large memory footprint.\n",
      "  warnings.warn(*args, **kwargs)  # noqa: B028\n"
     ]
    },
    {
     "name": "stdout",
     "output_type": "stream",
     "text": [
      "Results for fold 2:\n",
      "R: 0.5780\n",
      "R²: 0.3340\n"
     ]
    },
    {
     "name": "stderr",
     "output_type": "stream",
     "text": [
      "/Users/clark04/miniforge-pypy3/envs/CaLM/lib/python3.10/site-packages/torchmetrics/utilities/prints.py:43: UserWarning: Metric `SpearmanCorrcoef` will save all targets and predictions in the buffer. For large datasets, this may lead to large memory footprint.\n",
      "  warnings.warn(*args, **kwargs)  # noqa: B028\n"
     ]
    },
    {
     "name": "stdout",
     "output_type": "stream",
     "text": [
      "Results for fold 3:\n",
      "R: 0.6164\n",
      "R²: 0.3799\n"
     ]
    },
    {
     "name": "stderr",
     "output_type": "stream",
     "text": [
      "/Users/clark04/miniforge-pypy3/envs/CaLM/lib/python3.10/site-packages/torchmetrics/utilities/prints.py:43: UserWarning: Metric `SpearmanCorrcoef` will save all targets and predictions in the buffer. For large datasets, this may lead to large memory footprint.\n",
      "  warnings.warn(*args, **kwargs)  # noqa: B028\n"
     ]
    },
    {
     "name": "stdout",
     "output_type": "stream",
     "text": [
      "Results for fold 4:\n",
      "R: 0.5950\n",
      "R²: 0.3541\n"
     ]
    },
    {
     "name": "stderr",
     "output_type": "stream",
     "text": [
      "/Users/clark04/miniforge-pypy3/envs/CaLM/lib/python3.10/site-packages/torchmetrics/utilities/prints.py:43: UserWarning: Metric `SpearmanCorrcoef` will save all targets and predictions in the buffer. For large datasets, this may lead to large memory footprint.\n",
      "  warnings.warn(*args, **kwargs)  # noqa: B028\n"
     ]
    },
    {
     "name": "stdout",
     "output_type": "stream",
     "text": [
      "Results for fold 5:\n",
      "R: 0.6101\n",
      "R²: 0.3722\n"
     ]
    },
    {
     "name": "stderr",
     "output_type": "stream",
     "text": [
      "/Users/clark04/miniforge-pypy3/envs/CaLM/lib/python3.10/site-packages/torchmetrics/utilities/prints.py:43: UserWarning: Metric `SpearmanCorrcoef` will save all targets and predictions in the buffer. For large datasets, this may lead to large memory footprint.\n",
      "  warnings.warn(*args, **kwargs)  # noqa: B028\n"
     ]
    },
    {
     "name": "stdout",
     "output_type": "stream",
     "text": [
      "Results for fold 6:\n",
      "R: 0.6010\n",
      "R²: 0.3613\n"
     ]
    },
    {
     "name": "stderr",
     "output_type": "stream",
     "text": [
      "/Users/clark04/miniforge-pypy3/envs/CaLM/lib/python3.10/site-packages/torchmetrics/utilities/prints.py:43: UserWarning: Metric `SpearmanCorrcoef` will save all targets and predictions in the buffer. For large datasets, this may lead to large memory footprint.\n",
      "  warnings.warn(*args, **kwargs)  # noqa: B028\n"
     ]
    },
    {
     "name": "stdout",
     "output_type": "stream",
     "text": [
      "Results for fold 7:\n",
      "R: 0.5854\n",
      "R²: 0.3427\n"
     ]
    },
    {
     "name": "stderr",
     "output_type": "stream",
     "text": [
      "/Users/clark04/miniforge-pypy3/envs/CaLM/lib/python3.10/site-packages/torchmetrics/utilities/prints.py:43: UserWarning: Metric `SpearmanCorrcoef` will save all targets and predictions in the buffer. For large datasets, this may lead to large memory footprint.\n",
      "  warnings.warn(*args, **kwargs)  # noqa: B028\n"
     ]
    },
    {
     "name": "stdout",
     "output_type": "stream",
     "text": [
      "Results for fold 8:\n",
      "R: 0.6061\n",
      "R²: 0.3674\n"
     ]
    },
    {
     "name": "stderr",
     "output_type": "stream",
     "text": [
      "/Users/clark04/miniforge-pypy3/envs/CaLM/lib/python3.10/site-packages/torchmetrics/utilities/prints.py:43: UserWarning: Metric `SpearmanCorrcoef` will save all targets and predictions in the buffer. For large datasets, this may lead to large memory footprint.\n",
      "  warnings.warn(*args, **kwargs)  # noqa: B028\n"
     ]
    },
    {
     "name": "stdout",
     "output_type": "stream",
     "text": [
      "Results for fold 9:\n",
      "R: 0.5889\n",
      "R²: 0.3468\n",
      "R: 0.5970\n",
      "rho: 0.5904\n"
     ]
    }
   ],
   "source": [
    "r_list = []\n",
    "rho_list = []\n",
    "\n",
    "split = PredefinedSplit(test_fold = data['split'])\n",
    "    \n",
    "for fold, idxs in enumerate(split.split()):\n",
    "\n",
    "    datamodule = CodonDataModule(args, alphabet, './data/transcript_stability/mrna_half-life.csv', args.batch_size,\n",
    "                                     fine_tune=True, sequence_column = 'CDS',\n",
    "                                     target_column = 'y', split_idxs = idxs)\n",
    "\n",
    "    checkpoint_path = f'./assets/crossval/saluki_stability_fold_{fold}.ckpt'\n",
    "    model = PLProteinBertRegressor.load_from_checkpoint(checkpoint_path, model=base_model, args=args)\n",
    "    model.to('cuda')\n",
    "    model.eval()\n",
    "\n",
    "    datamodule.setup()\n",
    "    dataloader = datamodule.val_dataloader()\n",
    "\n",
    "    predictions = []\n",
    "    labels = []\n",
    "    with torch.no_grad():\n",
    "        for batch in dataloader:\n",
    "            tokens = batch['input'].to(\"cuda\")  # Move to GPU if available\n",
    "            preds = model(tokens)  # Forward pass\n",
    "            preds = preds[\"logits\"].squeeze(-1)  # Extract logits\n",
    "            predictions.extend(preds.cpu().numpy())\n",
    "            labels.extend(batch['labels'].cpu().numpy())\n",
    "\n",
    "\n",
    "    r, p_val = pearsonr(predictions, labels)\n",
    "    rho, p_val = spearmanr(predictions, labels)\n",
    "    r_list.append(r)\n",
    "    rho_list.append(rho)\n",
    "\n",
    "    print(f'Results for fold {fold}:')\n",
    "    print(f'R: {r:.4f}')\n",
    "    print(f'R\\u00b2: {r ** 2:.4f}')\n",
    "\n",
    "print(f'R: {np.mean(r_list):.4f}')\n",
    "print(f'rho: {np.mean(rho_list):.4f}')"
   ]
  },
  {
   "cell_type": "code",
   "execution_count": 15,
   "id": "aaf468c5-dec4-4110-9fea-38f753f94f98",
   "metadata": {},
   "outputs": [],
   "source": [
    "res = pd.DataFrame({'R': r_list, 'R2': np.array(r_list) **2, 'rho': rho_list})\n",
    "res.rename_axis('fold', inplace=True)"
   ]
  },
  {
   "cell_type": "code",
   "execution_count": 17,
   "id": "dbef045f-265d-4cbb-b9af-9b55b636d132",
   "metadata": {},
   "outputs": [],
   "source": [
    "res.to_csv('./results/finetuning/saluki_crossval.csv')"
   ]
  },
  {
   "cell_type": "code",
   "execution_count": null,
   "id": "65ae626f-f07c-4eb8-9cef-ef6a6070015c",
   "metadata": {},
   "outputs": [],
   "source": []
  }
 ],
 "metadata": {
  "kernelspec": {
   "display_name": "CaLM",
   "language": "python",
   "name": "calm"
  },
  "language_info": {
   "codemirror_mode": {
    "name": "ipython",
    "version": 3
   },
   "file_extension": ".py",
   "mimetype": "text/x-python",
   "name": "python",
   "nbconvert_exporter": "python",
   "pygments_lexer": "ipython3",
   "version": "3.10.15"
  }
 },
 "nbformat": 4,
 "nbformat_minor": 5
}
